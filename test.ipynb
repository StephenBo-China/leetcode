{
 "cells": [
  {
   "cell_type": "code",
   "execution_count": 1,
   "id": "f806e410-cf5f-463d-af03-d265153c8363",
   "metadata": {},
   "outputs": [],
   "source": [
    "import numpy as np"
   ]
  },
  {
   "cell_type": "code",
   "execution_count": 3,
   "id": "f4b39f2b-9d20-47fc-9e14-927183d47ac1",
   "metadata": {},
   "outputs": [],
   "source": [
    "import pandas"
   ]
  },
  {
   "cell_type": "code",
   "execution_count": 1,
   "id": "ac81ea87",
   "metadata": {},
   "outputs": [],
   "source": [
    "class ListNode(object):\n",
    "    def __init__(self, val=0, next=None):\n",
    "        self.val = val\n",
    "        self.next = next"
   ]
  },
  {
   "cell_type": "code",
   "execution_count": 7,
   "id": "803c1026",
   "metadata": {},
   "outputs": [
    {
     "data": {
      "text/plain": [
       "4"
      ]
     },
     "execution_count": 7,
     "metadata": {},
     "output_type": "execute_result"
    }
   ],
   "source": [
    "14 % 10"
   ]
  },
  {
   "cell_type": "code",
   "execution_count": 101,
   "id": "4da88834-a679-401c-a689-053e2ccd3f29",
   "metadata": {},
   "outputs": [],
   "source": [
    "# 暴力法 遍历所有可能情况取max\n",
    "def lengthOfLongestSubstring(s):\n",
    "    \"\"\"\n",
    "    :type s: str\n",
    "    :rtype: int\n",
    "    \"\"\"\n",
    "    result = 0\n",
    "    if len(s) == 1:\n",
    "        return 1\n",
    "    for i in range(len(s) - 1):\n",
    "        rst = 0\n",
    "        temp = list()\n",
    "        for j in range(i, len(s)):\n",
    "            if s[j] not in temp:\n",
    "                temp.append(s[j])\n",
    "                rst += 1\n",
    "            else:\n",
    "                break \n",
    "        result = max(result, rst)\n",
    "    return result"
   ]
  },
  {
   "cell_type": "code",
   "execution_count": 251,
   "id": "d728dfc2",
   "metadata": {},
   "outputs": [],
   "source": [
    "def minWindow(s, t):\n",
    "    left_index = right_index = 0 \n",
    "    result = \"\"\n",
    "    min_len = len(s)\n",
    "    all_word_dict = dict()\n",
    "    for i in range(len(t)):\n",
    "        if t[i] not in all_word_dict:\n",
    "            all_word_dict[t[i]] = 1 \n",
    "        else:\n",
    "            all_word_dict[t[i]] = all_word_dict[t[i]] + 1\n",
    "    # print(all_word_dict)\n",
    "    while (left_index < len(s) or right_index < len(s)) and right_index < len(s) + 1 and left_index <= right_index:\n",
    "        sub_string = s[left_index:(right_index + 1)]\n",
    "        # print(sub_string)\n",
    "        temp_word_dict = dict()\n",
    "        for i in range(len(sub_string)):\n",
    "            if sub_string[i] not in temp_word_dict:\n",
    "                temp_word_dict[sub_string[i]] = 1\n",
    "            else: \n",
    "                temp_word_dict[sub_string[i]] = temp_word_dict[sub_string[i]] + 1\n",
    "        # print(temp_word_dict)\n",
    "        judge = True\n",
    "        for word in all_word_dict:\n",
    "            if word not in temp_word_dict or all_word_dict[word] > temp_word_dict[word]:\n",
    "                judge = False \n",
    "                break \n",
    "        if judge:\n",
    "            if len(sub_string) <= min_len:\n",
    "                min_len = len(sub_string)\n",
    "                result = sub_string\n",
    "            left_index += 1\n",
    "        else:\n",
    "            right_index += 1\n",
    "    return result \n",
    "            \n"
   ]
  },
  {
   "cell_type": "code",
   "execution_count": 252,
   "id": "115872e0",
   "metadata": {},
   "outputs": [
    {
     "data": {
      "text/plain": [
       "'BANC'"
      ]
     },
     "execution_count": 252,
     "metadata": {},
     "output_type": "execute_result"
    }
   ],
   "source": [
    "s = \"ADOBECODEBANC\"\n",
    "t = \"ABC\"\n",
    "minWindow(s, t)"
   ]
  },
  {
   "cell_type": "code",
   "execution_count": 253,
   "id": "d9799fdf",
   "metadata": {},
   "outputs": [
    {
     "ename": "NameError",
     "evalue": "name 'collections' is not defined",
     "output_type": "error",
     "traceback": [
      "\u001b[0;31m---------------------------------------------------------------------------\u001b[0m",
      "\u001b[0;31mNameError\u001b[0m                                 Traceback (most recent call last)",
      "\u001b[0;32m/var/folders/4m/r67d805s01s3wd38km_gpzwr0000gn/T/ipykernel_85396/1497649756.py\u001b[0m in \u001b[0;36m<module>\u001b[0;34m\u001b[0m\n\u001b[0;32m----> 1\u001b[0;31m \u001b[0mneedMap\u001b[0m \u001b[0;34m=\u001b[0m \u001b[0mcollections\u001b[0m\u001b[0;34m.\u001b[0m\u001b[0mdefaultdict\u001b[0m\u001b[0;34m(\u001b[0m\u001b[0mint\u001b[0m\u001b[0;34m)\u001b[0m\u001b[0;34m\u001b[0m\u001b[0;34m\u001b[0m\u001b[0m\n\u001b[0m\u001b[1;32m      2\u001b[0m \u001b[0mneedMap\u001b[0m\u001b[0;34m\u001b[0m\u001b[0;34m\u001b[0m\u001b[0m\n",
      "\u001b[0;31mNameError\u001b[0m: name 'collections' is not defined"
     ]
    }
   ],
   "source": [
    "needMap = collections.defaultdict(int)\n",
    "needMap"
   ]
  },
  {
   "cell_type": "code",
   "execution_count": 6,
   "id": "5791d638",
   "metadata": {},
   "outputs": [
    {
     "data": {
      "text/plain": [
       "0"
      ]
     },
     "execution_count": 6,
     "metadata": {},
     "output_type": "execute_result"
    }
   ],
   "source": [
    "dummy = p = ListNode(None)\n",
    "s = 0\n",
    "\n",
    "while l1 or l2 or s != 0:\n",
    "    s += (l1.val if l1 else 0) + (l2.val if l2 else 0)\n",
    "    p.next = ListNode(s % 10)\n",
    "    p = p.next\n",
    "    if l1: l1 = l1.next\n",
    "    if l2: l2 = l2.next\n",
    "    s = s // 10\n",
    "\n",
    "return dummy.next"
   ]
  },
  {
   "cell_type": "code",
   "execution_count": null,
   "id": "00704069",
   "metadata": {},
   "outputs": [],
   "source": []
  },
  {
   "cell_type": "code",
   "execution_count": null,
   "id": "12e99acc",
   "metadata": {},
   "outputs": [],
   "source": []
  },
  {
   "cell_type": "code",
   "execution_count": null,
   "id": "23a2ebcf",
   "metadata": {},
   "outputs": [],
   "source": []
  },
  {
   "cell_type": "code",
   "execution_count": null,
   "id": "68e72f60",
   "metadata": {},
   "outputs": [],
   "source": []
  },
  {
   "cell_type": "code",
   "execution_count": null,
   "id": "88ffc426",
   "metadata": {},
   "outputs": [],
   "source": []
  },
  {
   "cell_type": "code",
   "execution_count": 3,
   "id": "b678d883",
   "metadata": {},
   "outputs": [
    {
     "data": {
      "text/plain": [
       "12.0"
      ]
     },
     "execution_count": 3,
     "metadata": {},
     "output_type": "execute_result"
    }
   ],
   "source": []
  },
  {
   "cell_type": "code",
   "execution_count": null,
   "id": "bb95b2d1",
   "metadata": {},
   "outputs": [],
   "source": []
  }
 ],
 "metadata": {
  "kernelspec": {
   "display_name": "Python 3 (ipykernel)",
   "language": "python",
   "name": "python3"
  },
  "language_info": {
   "codemirror_mode": {
    "name": "ipython",
    "version": 3
   },
   "file_extension": ".py",
   "mimetype": "text/x-python",
   "name": "python",
   "nbconvert_exporter": "python",
   "pygments_lexer": "ipython3",
   "version": "3.8.12"
  }
 },
 "nbformat": 4,
 "nbformat_minor": 5
}
