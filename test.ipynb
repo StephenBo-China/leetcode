{
 "cells": [
  {
   "cell_type": "code",
   "execution_count": 1,
   "id": "f806e410-cf5f-463d-af03-d265153c8363",
   "metadata": {},
   "outputs": [],
   "source": [
    "import numpy as np"
   ]
  },
  {
   "cell_type": "code",
   "execution_count": 3,
   "id": "f4b39f2b-9d20-47fc-9e14-927183d47ac1",
   "metadata": {},
   "outputs": [],
   "source": [
    "import pandas"
   ]
  },
  {
   "cell_type": "code",
   "execution_count": 1,
   "id": "ac81ea87",
   "metadata": {},
   "outputs": [],
   "source": [
    "class ListNode(object):\n",
    "    def __init__(self, val=0, next=None):\n",
    "        self.val = val\n",
    "        self.next = next"
   ]
  },
  {
   "cell_type": "code",
   "execution_count": 7,
   "id": "803c1026",
   "metadata": {},
   "outputs": [
    {
     "data": {
      "text/plain": [
       "4"
      ]
     },
     "execution_count": 7,
     "metadata": {},
     "output_type": "execute_result"
    }
   ],
   "source": [
    "14 % 10"
   ]
  },
  {
   "cell_type": "code",
   "execution_count": 101,
   "id": "4da88834-a679-401c-a689-053e2ccd3f29",
   "metadata": {},
   "outputs": [],
   "source": [
    "# 暴力法 遍历所有可能情况取max\n",
    "def lengthOfLongestSubstring(s):\n",
    "    \"\"\"\n",
    "    :type s: str\n",
    "    :rtype: int\n",
    "    \"\"\"\n",
    "    result = 0\n",
    "    if len(s) == 1:\n",
    "        return 1\n",
    "    for i in range(len(s) - 1):\n",
    "        rst = 0\n",
    "        temp = list()\n",
    "        for j in range(i, len(s)):\n",
    "            if s[j] not in temp:\n",
    "                temp.append(s[j])\n",
    "                rst += 1\n",
    "            else:\n",
    "                break \n",
    "        result = max(result, rst)\n",
    "    return result"
   ]
  },
  {
   "cell_type": "code",
   "execution_count": 251,
   "id": "d728dfc2",
   "metadata": {},
   "outputs": [],
   "source": [
    "def minWindow(s, t):\n",
    "    left_index = right_index = 0 \n",
    "    result = \"\"\n",
    "    min_len = len(s)\n",
    "    all_word_dict = dict()\n",
    "    for i in range(len(t)):\n",
    "        if t[i] not in all_word_dict:\n",
    "            all_word_dict[t[i]] = 1 \n",
    "        else:\n",
    "            all_word_dict[t[i]] = all_word_dict[t[i]] + 1\n",
    "    # print(all_word_dict)\n",
    "    while (left_index < len(s) or right_index < len(s)) and right_index < len(s) + 1 and left_index <= right_index:\n",
    "        sub_string = s[left_index:(right_index + 1)]\n",
    "        # print(sub_string)\n",
    "        temp_word_dict = dict()\n",
    "        for i in range(len(sub_string)):\n",
    "            if sub_string[i] not in temp_word_dict:\n",
    "                temp_word_dict[sub_string[i]] = 1\n",
    "            else: \n",
    "                temp_word_dict[sub_string[i]] = temp_word_dict[sub_string[i]] + 1\n",
    "        # print(temp_word_dict)\n",
    "        judge = True\n",
    "        for word in all_word_dict:\n",
    "            if word not in temp_word_dict or all_word_dict[word] > temp_word_dict[word]:\n",
    "                judge = False \n",
    "                break \n",
    "        if judge:\n",
    "            if len(sub_string) <= min_len:\n",
    "                min_len = len(sub_string)\n",
    "                result = sub_string\n",
    "            left_index += 1\n",
    "        else:\n",
    "            right_index += 1\n",
    "    return result \n",
    "            \n"
   ]
  },
  {
   "cell_type": "code",
   "execution_count": 273,
   "id": "c7364ed9",
   "metadata": {},
   "outputs": [],
   "source": [
    "def minSubArrayLen(target, nums):\n",
    "    \"\"\"\n",
    "    :type target: int\n",
    "    :type nums: List[int]\n",
    "    :rtype: int\n",
    "    \"\"\"\n",
    "    "
   ]
  },
  {
   "cell_type": "code",
   "execution_count": 274,
   "id": "115872e0",
   "metadata": {},
   "outputs": [
    {
     "name": "stdout",
     "output_type": "stream",
     "text": [
      "{'A': 1, 'B': 1, 'C': 1}\n",
      "0\n",
      "inin\n",
      "1\n",
      "2\n",
      "3\n",
      "inin\n",
      "4\n",
      "5\n",
      "inin\n",
      "6\n",
      "7\n",
      "8\n",
      "9\n",
      "inin\n"
     ]
    },
    {
     "data": {
      "text/plain": [
       "'BANC'"
      ]
     },
     "execution_count": 274,
     "metadata": {},
     "output_type": "execute_result"
    }
   ],
   "source": [
    "s = \"ADOBECODEBANC\"\n",
    "t = \"ABC\"\n",
    "minWindow(s, t)"
   ]
  },
  {
   "cell_type": "code",
   "execution_count": 256,
   "id": "d9799fdf",
   "metadata": {},
   "outputs": [
    {
     "name": "stdout",
     "output_type": "stream",
     "text": [
      "1\n"
     ]
    }
   ],
   "source": [
    "if not \"\": print(1)"
   ]
  },
  {
   "cell_type": "code",
   "execution_count": 6,
   "id": "5791d638",
   "metadata": {},
   "outputs": [
    {
     "data": {
      "text/plain": [
       "0"
      ]
     },
     "execution_count": 6,
     "metadata": {},
     "output_type": "execute_result"
    }
   ],
   "source": [
    "dummy = p = ListNode(None)\n",
    "s = 0\n",
    "\n",
    "while l1 or l2 or s != 0:\n",
    "    s += (l1.val if l1 else 0) + (l2.val if l2 else 0)\n",
    "    p.next = ListNode(s % 10)\n",
    "    p = p.next\n",
    "    if l1: l1 = l1.next\n",
    "    if l2: l2 = l2.next\n",
    "    s = s // 10\n",
    "\n",
    "return dummy.next"
   ]
  },
  {
   "cell_type": "code",
   "execution_count": 291,
   "id": "00704069",
   "metadata": {},
   "outputs": [],
   "source": [
    "def lengthOfLongestSubstringTwoDistinct(s):\n",
    "    \"\"\"\n",
    "    :type s: str\n",
    "    :rtype: int\n",
    "    \"\"\"\n",
    "    left = right = 0\n",
    "    rst = float(\"-inf\")\n",
    "    temp = \"\"\n",
    "    for right in range(len(s)):\n",
    "        sub_string = s[left:(right + 1)]\n",
    "        temp_set = set()\n",
    "        for i in sub_string:\n",
    "            temp_set.add(i)\n",
    "        if len(temp_set) <= 2:\n",
    "            rst = max(rst, len(sub_string))\n",
    "            temp = sub_string\n",
    "        else:\n",
    "            while left < right:\n",
    "                sub_string = s[left:(right + 1)]\n",
    "                temp_set = set()\n",
    "                for i in sub_string:\n",
    "                    temp_set.add(i)\n",
    "                if len(temp_set) <= 2:\n",
    "                    break\n",
    "                left += 1\n",
    "    return rst"
   ]
  },
  {
   "cell_type": "code",
   "execution_count": 292,
   "id": "12e99acc",
   "metadata": {},
   "outputs": [
    {
     "data": {
      "text/plain": [
       "5"
      ]
     },
     "execution_count": 292,
     "metadata": {},
     "output_type": "execute_result"
    }
   ],
   "source": [
    "lengthOfLongestSubstringTwoDistinct(\"ccaabbb\")"
   ]
  },
  {
   "cell_type": "code",
   "execution_count": null,
   "id": "23a2ebcf",
   "metadata": {},
   "outputs": [],
   "source": [
    "#!/usr/bin/env python  \n",
    "# coding=utf-8  \n",
    "# Python version is 2.7,\n",
    "# Indentation can use tab, 4 spaces or 2 spaces\n",
    "# But you can only use one Simultaneously instead of mixed use\n",
    "\n",
    "# The TestCase is shown below\n",
    "# Input : 1 2\n",
    "# Output : 3\n",
    "\n",
    "class DList:\n",
    "    def __init__(self, key=0, value = 0):\n",
    "        self.key = key\n",
    "        self.value = value \n",
    "        self.left = None \n",
    "        self.right = None \n",
    "\n",
    "class LRUCache:\n",
    "    def __init__(self, capacity):\n",
    "        self.cache = dict()\n",
    "        self.head = DList()\n",
    "        self.tail = DList()\n",
    "        self.head.right = self.tail \n",
    "        self.tail.left = self.head \n",
    "        self.capacity = capacity\n",
    "        self.size = 0\n",
    "\n",
    "    def get(self, key):\n",
    "        if key not in self.cache:\n",
    "            return -1 \n",
    "        node = self.cache(key)\n",
    "        self.move_to_head(node)\n",
    "        return node.value\n",
    "\n",
    "    def remove_node(self, node):\n",
    "        node.left.right = node.right \n",
    "        node.right.left = node.left\n",
    "\n",
    "    def add_to_head(self, node):\n",
    "        node.left = self.head\n",
    "        node.right = self.head.right \n",
    "        self.head.right.left = node \n",
    "        self.head.right = node \n",
    "\n",
    "\n",
    "    def move_to_head(self, node):\n",
    "        self.remove_node(node)\n",
    "        self.add_to_head(node)\n",
    "\n",
    "    def remove_tail(self):\n",
    "        node = self.tail.left \n",
    "        self.remove_node(node)\n",
    "        return node\n",
    "        \n",
    "    \n",
    "    def put(self, key, value):\n",
    "        if key not in self.cache:\n",
    "            node = DList(key, value)\n",
    "            self.cache[key] = node \n",
    "            self.add_to_head(node)\n",
    "            self.size += 1\n",
    "            if self.size > self.capacity:\n",
    "                removed = self.remove_tail()\n",
    "                self.cache.pop(removed.key)\n",
    "                self.size -= 1\n",
    "         else:\n",
    "             node = self.cache(key)\n",
    "             node.value = value\n",
    "             self.move_to_head(node)\n",
    "                  \n",
    "    \n",
    "    def clear():\n",
    "        "
   ]
  },
  {
   "cell_type": "code",
   "execution_count": null,
   "id": "68e72f60",
   "metadata": {},
   "outputs": [],
   "source": []
  },
  {
   "cell_type": "code",
   "execution_count": null,
   "id": "88ffc426",
   "metadata": {},
   "outputs": [],
   "source": []
  },
  {
   "cell_type": "code",
   "execution_count": 3,
   "id": "b678d883",
   "metadata": {},
   "outputs": [
    {
     "data": {
      "text/plain": [
       "12.0"
      ]
     },
     "execution_count": 3,
     "metadata": {},
     "output_type": "execute_result"
    }
   ],
   "source": []
  },
  {
   "cell_type": "code",
   "execution_count": null,
   "id": "bb95b2d1",
   "metadata": {},
   "outputs": [],
   "source": []
  }
 ],
 "metadata": {
  "kernelspec": {
   "display_name": "Python 3 (ipykernel)",
   "language": "python",
   "name": "python3"
  },
  "language_info": {
   "codemirror_mode": {
    "name": "ipython",
    "version": 3
   },
   "file_extension": ".py",
   "mimetype": "text/x-python",
   "name": "python",
   "nbconvert_exporter": "python",
   "pygments_lexer": "ipython3",
   "version": "3.8.12"
  }
 },
 "nbformat": 4,
 "nbformat_minor": 5
}
